{
 "cells": [
  {
   "cell_type": "code",
   "execution_count": 0,
   "metadata": {
    "application/vnd.databricks.v1+cell": {
     "cellMetadata": {
      "byteLimit": 2048000,
      "rowLimit": 10000
     },
     "inputWidgets": {},
     "nuid": "af0454d7-b258-4847-8b46-c227ac0ffe39",
     "showTitle": false,
     "tableResultSettingsMap": {},
     "title": ""
    }
   },
   "outputs": [],
   "source": [
    "dbutils.fs.ls(\"/mnt/bayerhackathon\")"
   ]
  },
  {
   "cell_type": "code",
   "execution_count": 0,
   "metadata": {
    "application/vnd.databricks.v1+cell": {
     "cellMetadata": {
      "byteLimit": 2048000,
      "implicitDf": true,
      "rowLimit": 10000
     },
     "inputWidgets": {},
     "nuid": "9702ee10-592b-4b6d-93c5-a28ab222ca40",
     "showTitle": false,
     "tableResultSettingsMap": {},
     "title": ""
    }
   },
   "outputs": [],
   "source": [
    "%sql\n",
    "show databases;"
   ]
  },
  {
   "cell_type": "code",
   "execution_count": 0,
   "metadata": {
    "application/vnd.databricks.v1+cell": {
     "cellMetadata": {
      "byteLimit": 2048000,
      "implicitDf": true,
      "rowLimit": 10000
     },
     "inputWidgets": {},
     "nuid": "eb50ba85-11df-4337-9cb9-62d7e3ec15da",
     "showTitle": false,
     "tableResultSettingsMap": {},
     "title": ""
    }
   },
   "outputs": [],
   "source": [
    "%sql\n",
    "create database if not exists hcl_hactathon_bronze;\n",
    "create database if not exists hcl_hactathon_silver;\n",
    "create database if not exists hcl_hactathon_gold;"
   ]
  },
  {
   "cell_type": "code",
   "execution_count": 0,
   "metadata": {
    "application/vnd.databricks.v1+cell": {
     "cellMetadata": {
      "byteLimit": 2048000,
      "rowLimit": 10000
     },
     "inputWidgets": {},
     "nuid": "3ed63e7f-223d-438f-9834-81148d0cc826",
     "showTitle": false,
     "tableResultSettingsMap": {},
     "title": ""
    }
   },
   "outputs": [],
   "source": [
    "from pyspark.sql.functions import *\n",
    "from pyspark.sql.types import *"
   ]
  },
  {
   "cell_type": "markdown",
   "metadata": {
    "application/vnd.databricks.v1+cell": {
     "cellMetadata": {},
     "inputWidgets": {},
     "nuid": "d540c06a-7d06-475e-8a5c-cac4845f5cd9",
     "showTitle": false,
     "tableResultSettingsMap": {},
     "title": ""
    }
   },
   "source": [
    "#reading customer.csv"
   ]
  },
  {
   "cell_type": "code",
   "execution_count": 0,
   "metadata": {
    "application/vnd.databricks.v1+cell": {
     "cellMetadata": {
      "byteLimit": 2048000,
      "rowLimit": 10000
     },
     "inputWidgets": {},
     "nuid": "2c5d561f-36ad-4275-95c3-699d63ad654a",
     "showTitle": false,
     "tableResultSettingsMap": {},
     "title": ""
    }
   },
   "outputs": [],
   "source": [
    "#reading customer.csv\n",
    "\n",
    "df_customer = spark.read.csv(\"/mnt/bayerhackathon/customer.csv\", header=True, inferSchema=True)\n",
    "df_customer.display()\n",
    "df_customer.createOrReplaceTempView(\"customer_tbl\")\n"
   ]
  },
  {
   "cell_type": "code",
   "execution_count": 0,
   "metadata": {
    "application/vnd.databricks.v1+cell": {
     "cellMetadata": {
      "byteLimit": 2048000,
      "implicitDf": true,
      "rowLimit": 10000
     },
     "inputWidgets": {},
     "nuid": "12402fd7-ca58-4102-9ab3-31887eeb5dfa",
     "showTitle": false,
     "tableResultSettingsMap": {},
     "title": ""
    }
   },
   "outputs": [],
   "source": [
    "%sql\n",
    "select count(*) from customer_tbl"
   ]
  },
  {
   "cell_type": "markdown",
   "metadata": {
    "application/vnd.databricks.v1+cell": {
     "cellMetadata": {},
     "inputWidgets": {},
     "nuid": "573ebcf9-eabe-4475-948d-9a36e8d7b8b6",
     "showTitle": false,
     "tableResultSettingsMap": {},
     "title": ""
    }
   },
   "source": [
    "#reading customer_scd2.csv"
   ]
  },
  {
   "cell_type": "code",
   "execution_count": 0,
   "metadata": {
    "application/vnd.databricks.v1+cell": {
     "cellMetadata": {
      "byteLimit": 2048000,
      "rowLimit": 10000
     },
     "inputWidgets": {},
     "nuid": "25638c5c-2991-4f99-8cfc-6445849f43b7",
     "showTitle": false,
     "tableResultSettingsMap": {},
     "title": ""
    }
   },
   "outputs": [],
   "source": [
    "#reading customer_scd2.csv\n",
    "\n",
    "df_customer_SCD2_data = spark.read.csv(\"/mnt/bayerhackathon/customer_SCD2_data.csv\", header=True, inferSchema=True,sep=\";\")\n",
    "df_customer_SCD2_data.display()\n",
    "df_customer_SCD2_data.createOrReplaceTempView(\"customer_SCD2_data_tbl\")\n"
   ]
  },
  {
   "cell_type": "code",
   "execution_count": 0,
   "metadata": {
    "application/vnd.databricks.v1+cell": {
     "cellMetadata": {
      "byteLimit": 2048000,
      "implicitDf": true,
      "rowLimit": 10000
     },
     "inputWidgets": {},
     "nuid": "01257482-765d-4181-bb3f-dfc5c3e7e136",
     "showTitle": false,
     "tableResultSettingsMap": {},
     "title": ""
    }
   },
   "outputs": [],
   "source": [
    "%sql\n",
    "select count(*) from customer_SCD2_data_tbl"
   ]
  },
  {
   "cell_type": "code",
   "execution_count": 0,
   "metadata": {
    "application/vnd.databricks.v1+cell": {
     "cellMetadata": {
      "byteLimit": 2048000,
      "rowLimit": 10000
     },
     "inputWidgets": {},
     "nuid": "60efc4c2-ee49-4ccb-86eb-b57c80a47068",
     "showTitle": false,
     "tableResultSettingsMap": {},
     "title": ""
    }
   },
   "outputs": [],
   "source": [
    "df_customer_new = df_customer.join(df_customer_SCD2_data, df_customer.customer_id == df_customer_SCD2_data.customer_id, \"left\").select(df_customer_SCD2_data['*'],lit('Yes').alias('loyalty')).filter(df_customer_SCD2_data.customer_id.isNotNull()).distinct()\n",
    "df_customer_new.display()\n",
    "df_customer_new.createOrReplaceTempView(\"customer_new_tbl\")"
   ]
  },
  {
   "cell_type": "code",
   "execution_count": 0,
   "metadata": {
    "application/vnd.databricks.v1+cell": {
     "cellMetadata": {},
     "inputWidgets": {},
     "nuid": "5e0135f6-0848-4e94-887f-7d3a5bd97c12",
     "showTitle": false,
     "tableResultSettingsMap": {},
     "title": ""
    }
   },
   "outputs": [],
   "source": [
    "df_customer_updated = spark.sql(\"select *, 'Yes' as loyalty from customer_SCD2_data_tbl where customer_id not in (select distinct customer_id from customer_new_tbl)\")"
   ]
  },
  {
   "cell_type": "markdown",
   "metadata": {
    "application/vnd.databricks.v1+cell": {
     "cellMetadata": {},
     "inputWidgets": {},
     "nuid": "f5bcc8e2-6b97-4674-ba87-23a592e5b6ad",
     "showTitle": false,
     "tableResultSettingsMap": {},
     "title": ""
    }
   },
   "source": [
    "## Customer Data"
   ]
  },
  {
   "cell_type": "code",
   "execution_count": 0,
   "metadata": {
    "application/vnd.databricks.v1+cell": {
     "cellMetadata": {
      "byteLimit": 2048000,
      "rowLimit": 10000
     },
     "inputWidgets": {},
     "nuid": "0a70f79a-26dc-463e-89eb-9a6813221eea",
     "showTitle": false,
     "tableResultSettingsMap": {},
     "title": ""
    }
   },
   "outputs": [],
   "source": [
    "df_customer_final = df_customer.union(df_customer_new).union(df_customer_updated)\n",
    "# df_customer_final.filter(col(\"phone\").isNotNull())\n",
    "df_customer_final.createOrReplaceTempView(\"customer_final_tbl\")\n",
    "df_customer_final.write.mode(\"overwrite\").format(\"delta\").saveAsTable(\"hcl_hactathon_bronze.customer\")"
   ]
  },
  {
   "cell_type": "code",
   "execution_count": 0,
   "metadata": {
    "application/vnd.databricks.v1+cell": {
     "cellMetadata": {
      "byteLimit": 2048000,
      "rowLimit": 10000
     },
     "inputWidgets": {},
     "nuid": "42cc6870-8954-4228-8643-a348b35b9d3f",
     "showTitle": false,
     "tableResultSettingsMap": {},
     "title": ""
    }
   },
   "outputs": [],
   "source": [
    "df_customer_final_null_removal = spark.sql(\"select * from hcl_hactathon_bronze.customer where phone is not null\")\n",
    "df_customer_final_null_removal.write.mode(\"overwrite\").format(\"delta\").saveAsTable(\"hcl_hactathon_silver.customer\")"
   ]
  },
  {
   "cell_type": "code",
   "execution_count": 0,
   "metadata": {
    "application/vnd.databricks.v1+cell": {
     "cellMetadata": {
      "byteLimit": 2048000,
      "implicitDf": true,
      "rowLimit": 10000
     },
     "inputWidgets": {},
     "nuid": "7c6ddce3-8f21-4dbe-a75f-d58cbcf1f6ee",
     "showTitle": false,
     "tableResultSettingsMap": {},
     "title": ""
    }
   },
   "outputs": [],
   "source": [
    "%sql\n",
    "select count(*) from hcl_hactathon_bronze.customer"
   ]
  },
  {
   "cell_type": "code",
   "execution_count": 0,
   "metadata": {
    "application/vnd.databricks.v1+cell": {
     "cellMetadata": {
      "byteLimit": 2048000,
      "implicitDf": true,
      "rowLimit": 10000
     },
     "inputWidgets": {},
     "nuid": "a3c9059e-f76b-4ae2-9172-47c48472cd3d",
     "showTitle": false,
     "tableResultSettingsMap": {},
     "title": ""
    }
   },
   "outputs": [],
   "source": [
    "%sql\n",
    "select count(*) from hcl_hactathon_silver.customer"
   ]
  },
  {
   "cell_type": "code",
   "execution_count": 0,
   "metadata": {
    "application/vnd.databricks.v1+cell": {
     "cellMetadata": {
      "byteLimit": 2048000,
      "implicitDf": true,
      "rowLimit": 10000
     },
     "inputWidgets": {},
     "nuid": "c0530f5f-9a95-4127-a5ec-9651ab115d6a",
     "showTitle": false,
     "tableResultSettingsMap": {},
     "title": ""
    }
   },
   "outputs": [],
   "source": [
    "%sql\n",
    "select * from hcl_hactathon_silver.customer \n",
    "where phone is null"
   ]
  },
  {
   "cell_type": "code",
   "execution_count": 0,
   "metadata": {
    "application/vnd.databricks.v1+cell": {
     "cellMetadata": {
      "byteLimit": 2048000,
      "rowLimit": 10000
     },
     "collapsed": true,
     "inputWidgets": {},
     "nuid": "4d00f45a-4b16-43f1-a6e7-ed58475969c6",
     "showTitle": false,
     "tableResultSettingsMap": {},
     "title": ""
    }
   },
   "outputs": [],
   "source": [
    "df_customer_behaviour.count()"
   ]
  },
  {
   "cell_type": "code",
   "execution_count": 0,
   "metadata": {
    "application/vnd.databricks.v1+cell": {
     "cellMetadata": {
      "byteLimit": 2048000,
      "rowLimit": 10000
     },
     "inputWidgets": {},
     "nuid": "6220eebd-be18-4bd3-9f3d-c6f1e7941ad3",
     "showTitle": false,
     "tableResultSettingsMap": {},
     "title": ""
    }
   },
   "outputs": [],
   "source": [
    "#reading customer_SCD2_data.csv\n",
    "\n",
    "df_customer_behaviour = spark.read.csv(\"/mnt/bayerhackathon/customer_behaviour.csv\", header=True, inferSchema=True)\n",
    "# df_customer_behaviour.display()\n",
    "# df_customer_behaviour.count()\n",
    "df_customer_behaviour.createOrReplaceTempView(\"customer_behaviour_tbl\")\n",
    "df_customer_behaviour.write.mode(\"overwrite\").format(\"delta\").saveAsTable(\"hcl_hactathon_bronze.customer_behaviour\")\n",
    "\n",
    "df_customer_behaviour_final = spark.sql(\"select * from customer_behaviour_tbl where customer_id not in (select distinct customer_id from hcl_hactathon_bronze.customer where phone is null)\")\n",
    "df_customer_behaviour_final.write.mode(\"overwrite\").format(\"delta\").saveAsTable(\"hcl_hactathon_silver.customer_behaviour\")"
   ]
  },
  {
   "cell_type": "code",
   "execution_count": 0,
   "metadata": {
    "application/vnd.databricks.v1+cell": {
     "cellMetadata": {
      "byteLimit": 2048000,
      "implicitDf": true,
      "rowLimit": 10000
     },
     "inputWidgets": {},
     "nuid": "a0c119e2-63de-442f-8fab-9b28e5035294",
     "showTitle": false,
     "tableResultSettingsMap": {},
     "title": ""
    }
   },
   "outputs": [],
   "source": [
    "%sql\n",
    "select count(*) from hcl_hactathon_bronze.customer_behaviour"
   ]
  },
  {
   "cell_type": "code",
   "execution_count": 0,
   "metadata": {
    "application/vnd.databricks.v1+cell": {
     "cellMetadata": {
      "byteLimit": 2048000,
      "implicitDf": true,
      "rowLimit": 10000
     },
     "inputWidgets": {},
     "nuid": "6c31e92b-b6f9-4577-a1f1-1dd317bcadb7",
     "showTitle": false,
     "tableResultSettingsMap": {},
     "title": ""
    }
   },
   "outputs": [],
   "source": [
    "%sql\n",
    "select count(*) from hcl_hactathon_silver.customer_behaviour"
   ]
  },
  {
   "cell_type": "code",
   "execution_count": 0,
   "metadata": {
    "application/vnd.databricks.v1+cell": {
     "cellMetadata": {
      "byteLimit": 2048000,
      "rowLimit": 10000
     },
     "inputWidgets": {},
     "nuid": "1b911ef5-bb80-495d-ae94-037f555c8c4b",
     "showTitle": false,
     "tableResultSettingsMap": {},
     "title": ""
    }
   },
   "outputs": [],
   "source": []
  },
  {
   "cell_type": "markdown",
   "metadata": {
    "application/vnd.databricks.v1+cell": {
     "cellMetadata": {},
     "inputWidgets": {},
     "nuid": "fbe7f98a-87f2-4bb9-878b-3309ee7a2853",
     "showTitle": false,
     "tableResultSettingsMap": {},
     "title": ""
    }
   },
   "source": [
    "# reading order.csv"
   ]
  },
  {
   "cell_type": "code",
   "execution_count": 0,
   "metadata": {
    "application/vnd.databricks.v1+cell": {
     "cellMetadata": {
      "byteLimit": 2048000,
      "rowLimit": 10000
     },
     "inputWidgets": {},
     "nuid": "ff024b87-fd71-4564-8b5b-f4b247fb57ba",
     "showTitle": false,
     "tableResultSettingsMap": {},
     "title": ""
    }
   },
   "outputs": [],
   "source": [
    "# reading order.csv\n",
    "df_order = spark.read.csv(\"/mnt/bayerhackathon/order.csv\", header=True, inferSchema=True)\n",
    "# df_order.display()\n",
    "# df_order.count()\n",
    "df_order.createOrReplaceTempView(\"order_tbl\")\n",
    "df_order.write.mode(\"overwrite\").format(\"delta\").saveAsTable(\"hcl_hactathon_bronze.order\")\n",
    "\n",
    "df_order_final = spark.sql(\"select * from order_tbl where customer_id not in (select distinct customer_id from hcl_hactathon_bronze.customer where phone is null)\")\n",
    "df_order_final.write.mode(\"overwrite\").format(\"delta\").saveAsTable(\"hcl_hactathon_silver.order\")\n"
   ]
  },
  {
   "cell_type": "code",
   "execution_count": 0,
   "metadata": {
    "application/vnd.databricks.v1+cell": {
     "cellMetadata": {
      "byteLimit": 2048000,
      "implicitDf": true,
      "rowLimit": 10000
     },
     "inputWidgets": {},
     "nuid": "cb14c1f6-5d5d-4dd5-a129-d61af515066a",
     "showTitle": false,
     "tableResultSettingsMap": {},
     "title": ""
    }
   },
   "outputs": [],
   "source": [
    "%sql\n",
    "select count(*) from hcl_hactathon_bronze.order"
   ]
  },
  {
   "cell_type": "code",
   "execution_count": 0,
   "metadata": {
    "application/vnd.databricks.v1+cell": {
     "cellMetadata": {
      "byteLimit": 2048000,
      "implicitDf": true,
      "rowLimit": 10000
     },
     "inputWidgets": {},
     "nuid": "6f62e767-9093-47d9-b3dc-f3e07e208830",
     "showTitle": false,
     "tableResultSettingsMap": {},
     "title": ""
    }
   },
   "outputs": [],
   "source": [
    "%sql\n",
    "select count(*) from hcl_hactathon_silver.order"
   ]
  },
  {
   "cell_type": "markdown",
   "metadata": {
    "application/vnd.databricks.v1+cell": {
     "cellMetadata": {},
     "inputWidgets": {},
     "nuid": "69fe6e34-cce9-4ad3-8527-a7f91221b885",
     "showTitle": false,
     "tableResultSettingsMap": {},
     "title": ""
    }
   },
   "source": [
    "# reading order_line.csv"
   ]
  },
  {
   "cell_type": "code",
   "execution_count": 0,
   "metadata": {
    "application/vnd.databricks.v1+cell": {
     "cellMetadata": {
      "byteLimit": 2048000,
      "rowLimit": 10000
     },
     "inputWidgets": {},
     "nuid": "2b6cf114-2f68-4dea-8a6a-3c84b065d91d",
     "showTitle": false,
     "tableResultSettingsMap": {},
     "title": ""
    }
   },
   "outputs": [],
   "source": [
    "# reading order_line.csv\n",
    "df_order_line = spark.read.csv(\"/mnt/bayerhackathon/order_line.csv\", header=True, inferSchema=True)\n",
    "# df_order_line.display()\n",
    "# df_order_line.count()\n",
    "df_order_line.createOrReplaceTempView(\"order_line_tbl\")\n",
    "df_order_line.write.mode(\"overwrite\").format(\"delta\").saveAsTable(\"hcl_hactathon_bronze.order_line\")\n",
    "\n",
    "df_order_line_final = spark.sql(\"select * from order_line_tbl where order_id not in (select distinct order_id from hcl_hactathon_bronze.order where customer_id  in (select distinct customer_id from hcl_hactathon_bronze.customer where phone is null))\")\n",
    "df_order_line_final.write.mode(\"overwrite\").format(\"delta\").saveAsTable(\"hcl_hactathon_silver.order_line\")\n"
   ]
  },
  {
   "cell_type": "code",
   "execution_count": 0,
   "metadata": {
    "application/vnd.databricks.v1+cell": {
     "cellMetadata": {
      "byteLimit": 2048000,
      "implicitDf": true,
      "rowLimit": 10000
     },
     "inputWidgets": {},
     "nuid": "d989ab2b-5bd7-4b64-b160-28d949ac7e82",
     "showTitle": false,
     "tableResultSettingsMap": {},
     "title": ""
    }
   },
   "outputs": [],
   "source": [
    "%sql\n",
    "select count(*) from hcl_hactathon_bronze.order_line"
   ]
  },
  {
   "cell_type": "code",
   "execution_count": 0,
   "metadata": {
    "application/vnd.databricks.v1+cell": {
     "cellMetadata": {
      "byteLimit": 2048000,
      "implicitDf": true,
      "rowLimit": 10000
     },
     "inputWidgets": {},
     "nuid": "6da7a917-e7e9-426e-9b29-849afe2d9181",
     "showTitle": false,
     "tableResultSettingsMap": {},
     "title": ""
    }
   },
   "outputs": [],
   "source": [
    "%sql\n",
    "select count(*) from hcl_hactathon_silver.order_line"
   ]
  },
  {
   "cell_type": "markdown",
   "metadata": {
    "application/vnd.databricks.v1+cell": {
     "cellMetadata": {},
     "inputWidgets": {},
     "nuid": "ecd0444a-e7e3-426a-8792-37a3f2c9d616",
     "showTitle": false,
     "tableResultSettingsMap": {},
     "title": ""
    }
   },
   "source": [
    "## Gold layer"
   ]
  },
  {
   "cell_type": "markdown",
   "metadata": {
    "application/vnd.databricks.v1+cell": {
     "cellMetadata": {},
     "inputWidgets": {},
     "nuid": "fbc0dd27-08c1-4e9d-b3e7-52829849c0df",
     "showTitle": false,
     "tableResultSettingsMap": {},
     "title": ""
    }
   },
   "source": [
    "## Orders Datamart"
   ]
  },
  {
   "cell_type": "code",
   "execution_count": 0,
   "metadata": {
    "application/vnd.databricks.v1+cell": {
     "cellMetadata": {
      "byteLimit": 2048000,
      "rowLimit": 10000
     },
     "inputWidgets": {},
     "nuid": "f5383f42-df6a-4025-9091-d336e301a2dd",
     "showTitle": false,
     "tableResultSettingsMap": {},
     "title": ""
    }
   },
   "outputs": [],
   "source": [
    "df_order = spark.read.table(\"hcl_hactathon_silver.order\").distinct()\n",
    "df_order_line = spark.read.table(\"hcl_hactathon_silver.order_line\").distinct()\n",
    "\n",
    "df_order_fact = df_order.join(df_order_line, df_order.order_id == df_order_line.order_id, \"inner\").select(df_order['*'],df_order_line['order_line_id'],df_order_line['product'],df_order_line['quantity'],df_order_line['price'],df_order_line['order_currency'],(df_order_line['quantity']*df_order_line['price']).alias('updated_total_purchase_value'))\n",
    "df_order_fact.display()\n",
    "\n",
    "df_order_fact.write.mode(\"overwrite\").format(\"delta\").saveAsTable(\"hcl_hactathon_gold.order_datamart\")\n"
   ]
  },
  {
   "cell_type": "markdown",
   "metadata": {
    "application/vnd.databricks.v1+cell": {
     "cellMetadata": {},
     "inputWidgets": {},
     "nuid": "8a0ff596-ecb6-4be8-99d8-d8dbe65f0745",
     "showTitle": false,
     "tableResultSettingsMap": {},
     "title": ""
    }
   },
   "source": [
    "## Customer Datamart"
   ]
  },
  {
   "cell_type": "code",
   "execution_count": 0,
   "metadata": {
    "application/vnd.databricks.v1+cell": {
     "cellMetadata": {
      "byteLimit": 2048000,
      "rowLimit": 10000
     },
     "inputWidgets": {},
     "nuid": "98bf64ec-62c9-497e-8f79-2b78f2035cad",
     "showTitle": false,
     "tableResultSettingsMap": {},
     "title": ""
    }
   },
   "outputs": [],
   "source": [
    "df_customer = spark.read.table(\"hcl_hactathon_silver.customer\").distinct()\n",
    "df_customer_behaviour = spark.read.table(\"hcl_hactathon_silver.customer_behaviour\").distinct()\n",
    "\n",
    "df_customer_dimension = df_customer.join(df_customer_behaviour, df_customer.customer_id == df_customer_behaviour.customer_id, \"inner\").select(df_customer['*'],df_customer_behaviour['order_frequency'],df_customer_behaviour['average_order_value'],df_customer_behaviour['customer_lifetime_value'],df_customer_behaviour['website_visits'],df_customer_behaviour['seconds_spent_on_website'],df_customer_behaviour['page_views'],df_customer_behaviour['cart_abandonment_rate'])\n",
    "\n",
    "df_customer_dimension.display()\n",
    "\n",
    "df_customer_dimension.write.mode(\"overwrite\").format(\"delta\").saveAsTable(\"hcl_hactathon_gold.customer_datamart\")\n"
   ]
  },
  {
   "cell_type": "markdown",
   "metadata": {
    "application/vnd.databricks.v1+cell": {
     "cellMetadata": {},
     "inputWidgets": {},
     "nuid": "67c100d6-61f6-44ea-afee-ed481b8c7dc9",
     "showTitle": false,
     "tableResultSettingsMap": {},
     "title": ""
    }
   },
   "source": [
    "## Orders 360 View"
   ]
  },
  {
   "cell_type": "code",
   "execution_count": 0,
   "metadata": {
    "application/vnd.databricks.v1+cell": {
     "cellMetadata": {
      "byteLimit": 2048000,
      "rowLimit": 10000
     },
     "inputWidgets": {},
     "nuid": "694f0d76-86b5-4bea-b0e5-716c1ada0bec",
     "showTitle": false,
     "tableResultSettingsMap": {},
     "title": ""
    }
   },
   "outputs": [],
   "source": [
    "from pyspark.sql.functions import *\n",
    "from pyspark.sql.types import *\n",
    "\n",
    "df_orders_360_view = df_order_fact.join(df_customer_dimension, (df_order_fact.customer_id == df_customer_dimension.customer_id), \"left\").select(df_order_fact['*'],df_customer['first_name'],df_customer['last_name'],df_customer['email'],df_customer['gender'],df_customer['Address'],df_customer['city'],df_customer['country'],df_customer['zipcode'],df_customer['phone'],df_customer['Created_date'],df_customer['loyalty'],df_customer_dimension['order_frequency'],df_customer_dimension['average_order_value'],df_customer_dimension['customer_lifetime_value'],df_customer_dimension['website_visits'],df_customer_dimension['seconds_spent_on_website'],df_customer_dimension['page_views'],df_customer_dimension['cart_abandonment_rate'], df_customer_dimension['state'].alias('customer_state'))\n",
    "\n",
    "df_orders_360_view = df_orders_360_view.withColumn('address1',regexp_extract(df_orders_360_view.Address, '([0-9]+)', 1)).withColumn('address2',regexp_extract(df_orders_360_view.Address, '([^0-9]+)', 1))\n",
    "\n",
    "df_orders_360_view.display()\n",
    "\n",
    "df_orders_360_view.write.mode(\"overwrite\").format(\"delta\").saveAsTable(\"hcl_hactathon_gold.orders_360_view\")"
   ]
  },
  {
   "cell_type": "code",
   "execution_count": 0,
   "metadata": {
    "application/vnd.databricks.v1+cell": {
     "cellMetadata": {
      "byteLimit": 2048000,
      "implicitDf": true,
      "rowLimit": 10000
     },
     "inputWidgets": {},
     "nuid": "1068fe2d-cac6-48d5-8b13-29877f00a84b",
     "showTitle": false,
     "tableResultSettingsMap": {},
     "title": ""
    }
   },
   "outputs": [],
   "source": [
    "%sql\n",
    "select count(*) from hcl_hactathon_gold.orders_360_view"
   ]
  },
  {
   "cell_type": "code",
   "execution_count": 0,
   "metadata": {
    "application/vnd.databricks.v1+cell": {
     "cellMetadata": {},
     "inputWidgets": {},
     "nuid": "297dd7cd-5d03-4a78-acf6-bdc437ca0f07",
     "showTitle": false,
     "tableResultSettingsMap": {},
     "title": ""
    }
   },
   "outputs": [],
   "source": []
  }
 ],
 "metadata": {
  "application/vnd.databricks.v1+notebook": {
   "computePreferences": null,
   "dashboards": [],
   "environmentMetadata": {
    "base_environment": "",
    "client": "1"
   },
   "language": "python",
   "notebookMetadata": {
    "mostRecentlyExecutedCommandWithImplicitDF": {
     "commandId": 6833231605579209,
     "dataframes": [
      "_sqldf"
     ]
    },
    "pythonIndentUnit": 4
   },
   "notebookName": "HCL_Hackathon_Adarsh",
   "widgets": {}
  },
  "language_info": {
   "name": "python"
  }
 },
 "nbformat": 4,
 "nbformat_minor": 0
}
